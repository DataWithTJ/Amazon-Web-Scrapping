{
 "cells": [
  {
   "cell_type": "code",
   "execution_count": 1,
   "id": "d413bc9b",
   "metadata": {},
   "outputs": [],
   "source": [
    "# Import libraries \n",
    "\n",
    "#!pip install selenium\n",
    "from selenium import webdriver\n",
    "from selenium.webdriver.common.by import By\n",
    "from selenium.webdriver.support.ui import WebDriverWait\n",
    "from selenium.webdriver.support import expected_conditions as EC\n",
    "import requests \n",
    "import smtplib\n",
    "import time\n",
    "import datetime "
   ]
  },
  {
   "cell_type": "code",
   "execution_count": 2,
   "id": "fbff0f90",
   "metadata": {},
   "outputs": [
    {
     "name": "stdout",
     "output_type": "stream",
     "text": [
      "Title:         Apple AirPods Max - Silver       \n",
      "Price: £479.00\n"
     ]
    }
   ],
   "source": [
    "# Connect to Website and pull in data\n",
    "\n",
    "# Set up Safari driver\n",
    "driver = webdriver.Safari()\n",
    "URL = 'https://www.amazon.co.uk/New-Apple-AirPods-Max-Silver/dp/B08Q29FZNF/'\n",
    "\n",
    "try:\n",
    "    driver.get(URL)\n",
    "\n",
    "    # Wait for the title element to be present\n",
    "    title = WebDriverWait(driver, 10).until(\n",
    "        EC.presence_of_element_located((By.ID, 'productTitle'))\n",
    "    ).text\n",
    "\n",
    "    # Wait for the price element to be present\n",
    "    price_element = WebDriverWait(driver, 10).until(\n",
    "        EC.presence_of_element_located((By.CLASS_NAME, 'a-price'))\n",
    "    )\n",
    "    price = price_element.find_element(By.CLASS_NAME, 'a-offscreen').text\n",
    "\n",
    "    print(\"Title:\", title)\n",
    "    print(\"Price:\", price)\n",
    "\n",
    "except Exception as e:\n",
    "    print(f\"Error encountered: {e.__class__.__name__} - {str(e)}\")\n",
    "\n",
    "finally:\n",
    "    driver.quit()\n"
   ]
  },
  {
   "cell_type": "code",
   "execution_count": 3,
   "id": "712ad790",
   "metadata": {},
   "outputs": [
    {
     "name": "stdout",
     "output_type": "stream",
     "text": [
      "Apple AirPods Max - Silver\n",
      "479.00\n"
     ]
    }
   ],
   "source": [
    "# Clean up the data a little bit\n",
    "\n",
    "price = price.strip()[1:]\n",
    "title = title.strip()\n",
    "\n",
    "print(title)\n",
    "print(price)"
   ]
  },
  {
   "cell_type": "code",
   "execution_count": 4,
   "id": "b602819d",
   "metadata": {},
   "outputs": [
    {
     "name": "stdout",
     "output_type": "stream",
     "text": [
      "2023-12-15\n"
     ]
    }
   ],
   "source": [
    "# Create a Timestamp for your output to track when data was collected\n",
    "\n",
    "import datetime\n",
    "\n",
    "today = datetime.date.today()\n",
    "\n",
    "print(today)"
   ]
  },
  {
   "cell_type": "code",
   "execution_count": 5,
   "id": "d54f6ea1",
   "metadata": {},
   "outputs": [],
   "source": [
    "# Create CSV and write headers and data into the file\n",
    "\n",
    "import csv \n",
    "\n",
    "header = ['Title', 'Price', 'Date']\n",
    "data = [title, price, today]\n",
    "\n",
    "\n",
    "with open('AmazonWebScraperDataset.csv', 'w', newline='', encoding='UTF8') as f:\n",
    "    writer = csv.writer(f)\n",
    "    writer.writerow(header)\n",
    "    writer.writerow(data)"
   ]
  },
  {
   "cell_type": "code",
   "execution_count": 15,
   "id": "5eb3cb9d",
   "metadata": {},
   "outputs": [
    {
     "name": "stdout",
     "output_type": "stream",
     "text": [
      "                        Title  Price        Date\n",
      "0  Apple AirPods Max - Silver  479.0  2023-12-15\n",
      "1  Apple AirPods Max - Silver  479.0  2023-12-15\n",
      "2  Apple AirPods Max - Silver  479.0  2023-12-15\n",
      "3  Apple AirPods Max - Silver  479.0  2023-12-15\n",
      "4  Apple AirPods Max - Silver  479.0  2023-12-15\n",
      "5  Apple AirPods Max - Silver  479.0  2023-12-15\n",
      "6  Apple AirPods Max - Silver  479.0  2023-12-15\n"
     ]
    }
   ],
   "source": [
    "import pandas as pd\n",
    "\n",
    "df = pd.read_csv(\"/Users/toluwanijacobs/AmazonWebScraperDataset.csv\")\n",
    "print(df)"
   ]
  },
  {
   "cell_type": "code",
   "execution_count": 14,
   "id": "1cbb9561",
   "metadata": {},
   "outputs": [],
   "source": [
    "# Now we are appending data to the csv\n",
    "\n",
    "with open('AmazonWebScraperDataset.csv', 'a+', newline='', encoding='UTF8') as f:\n",
    "    writer = csv.writer(f)\n",
    "    # Append data to the CSV file\n",
    "    writer.writerow(data)"
   ]
  },
  {
   "cell_type": "code",
   "execution_count": 8,
   "id": "a48f8033",
   "metadata": {},
   "outputs": [],
   "source": [
    "#Combine all of the above code into one function\n",
    "\n",
    "def check_price():\n",
    "    driver = webdriver.Safari()\n",
    "    URL = 'https://www.amazon.co.uk/New-Apple-AirPods-Max-Silver/dp/B08Q29FZNF/'\n",
    "\n",
    "    try:\n",
    "        driver.get(URL)\n",
    "\n",
    "        # Wait for the title element to be present\n",
    "        title = WebDriverWait(driver, 10).until(\n",
    "            EC.presence_of_element_located((By.ID, 'productTitle'))\n",
    "        ).text\n",
    "\n",
    "        # Wait for the price element to be present\n",
    "        price_element = WebDriverWait(driver, 10).until(\n",
    "            EC.presence_of_element_located((By.CLASS_NAME, 'a-price'))\n",
    "        )\n",
    "        price = price_element.find_element(By.CLASS_NAME, 'a-offscreen').text\n",
    "\n",
    "    except Exception as e:\n",
    "        print(f\"Error encountered: {e.__class__.__name__} - {str(e)}\")\n",
    "\n",
    "    finally:\n",
    "        driver.quit()\n",
    "\n",
    "    price = price.strip()[1:]\n",
    "    title = title.strip()\n",
    "    \n",
    "    import datetime\n",
    "\n",
    "    today = datetime.date.today()\n",
    "    \n",
    "    import csv \n",
    "\n",
    "    header = ['Title', 'Price', 'Date']\n",
    "    data = [title, price, today]\n",
    "\n",
    "    with open('AmazonWebScraperDataset.csv', 'a+', newline='', encoding='UTF8') as f:\n",
    "        writer = csv.writer(f)\n",
    "        # Append data to the CSV file\n",
    "        writer.writerow(data)"
   ]
  },
  {
   "cell_type": "code",
   "execution_count": 9,
   "id": "59e5682d",
   "metadata": {},
   "outputs": [
    {
     "ename": "KeyboardInterrupt",
     "evalue": "",
     "output_type": "error",
     "traceback": [
      "\u001b[0;31m---------------------------------------------------------------------------\u001b[0m",
      "\u001b[0;31mKeyboardInterrupt\u001b[0m                         Traceback (most recent call last)",
      "Cell \u001b[0;32mIn[9], line 9\u001b[0m\n\u001b[1;32m      7\u001b[0m \u001b[38;5;28;01mwhile\u001b[39;00m \u001b[38;5;28;01mTrue\u001b[39;00m:\n\u001b[1;32m      8\u001b[0m     check_price()\n\u001b[0;32m----> 9\u001b[0m     \u001b[43mtime\u001b[49m\u001b[38;5;241;43m.\u001b[39;49m\u001b[43msleep\u001b[49m\u001b[43m(\u001b[49m\u001b[43minterval_seconds\u001b[49m\u001b[43m)\u001b[49m\n",
      "\u001b[0;31mKeyboardInterrupt\u001b[0m: "
     ]
    }
   ],
   "source": [
    "# Runs check_price after a set time (dialy) and inputs data into your CSV\n",
    "\n",
    "# Define the interval between runs in seconds (e.g., 86400 seconds for daily)\n",
    "interval_seconds = 86400\n",
    "\n",
    "# Run check_price repeatedly\n",
    "while True:\n",
    "    check_price()\n",
    "    time.sleep(interval_seconds)"
   ]
  },
  {
   "cell_type": "code",
   "execution_count": 10,
   "id": "ab274686",
   "metadata": {},
   "outputs": [
    {
     "name": "stdout",
     "output_type": "stream",
     "text": [
      "                        Title  Price        Date\n",
      "0  Apple AirPods Max - Silver  479.0  2023-12-15\n",
      "1  Apple AirPods Max - Silver  479.0  2023-12-15\n",
      "2  Apple AirPods Max - Silver  479.0  2023-12-15\n"
     ]
    }
   ],
   "source": [
    "import pandas as pd\n",
    "\n",
    "df = pd.read_csv(\"/Users/toluwanijacobs/AmazonWebScraperDataset.csv\")\n",
    "print(df)"
   ]
  },
  {
   "cell_type": "code",
   "execution_count": 16,
   "id": "e857aeb5",
   "metadata": {},
   "outputs": [],
   "source": [
    "# Trying to send an email to myself (just for fun) when a price hits below a certain level\n",
    "# out with this script\n",
    "\n",
    "def send_mail():\n",
    "    server = smtplib.SMTP_SSL('smtp.gmail.com',465)\n",
    "    server.ehlo()\n",
    "    #server.starttls()\n",
    "    server.ehlo()\n",
    "    server.login('teaajacobs@gmail.com','xxxxxxxxxxxxxx')\n",
    "    \n",
    "    subject = \"Airpod max now below £400! Now is your chance to buy!\"\n",
    "    body = \"TJ, This is the moment we have been waiting for. Now is your chance add to your gadjets. Don't mess it up! Link here: https://www.amazon.co.uk/New-Apple-AirPods-Max-Silver/dp/B08Q29FZNF/\"\n",
    "   \n",
    "    msg = f\"Subject: {subject}\\n\\n{body}\"\n",
    "    \n",
    "    server.sendmail(\n",
    "        'teaajacobs@gmail.com',\n",
    "        msg\n",
    "     \n",
    "    )"
   ]
  },
  {
   "cell_type": "code",
   "execution_count": null,
   "id": "4436b4f8",
   "metadata": {},
   "outputs": [],
   "source": []
  }
 ],
 "metadata": {
  "kernelspec": {
   "display_name": "Python 3 (ipykernel)",
   "language": "python",
   "name": "python3"
  },
  "language_info": {
   "codemirror_mode": {
    "name": "ipython",
    "version": 3
   },
   "file_extension": ".py",
   "mimetype": "text/x-python",
   "name": "python",
   "nbconvert_exporter": "python",
   "pygments_lexer": "ipython3",
   "version": "3.10.9"
  }
 },
 "nbformat": 4,
 "nbformat_minor": 5
}
